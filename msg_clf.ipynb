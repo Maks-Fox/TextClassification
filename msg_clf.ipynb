{
 "cells": [
  {
   "cell_type": "code",
   "execution_count": 3,
   "metadata": {},
   "outputs": [],
   "source": [
    "import pandas as pd\n",
    "import numpy as np\n",
    "import string, re, random\n",
    "import pickle\n",
    "\n",
    "from nltk.stem.snowball import SnowballStemmer\n",
    "\n",
    "from sklearn.feature_extraction.text import TfidfVectorizer\n",
    "from sklearn.metrics import f1_score, classification_report, confusion_matrix\n",
    "from sklearn.model_selection import train_test_split\n",
    "\n",
    "from sklearn.ensemble import StackingClassifier\n",
    "from sklearn.linear_model import LogisticRegression\n",
    "from sklearn.linear_model import LogisticRegressionCV\n",
    "from sklearn.linear_model import SGDClassifier\n",
    "from sklearn.naive_bayes import MultinomialNB\n",
    "from sklearn.ensemble import VotingClassifier"
   ]
  },
  {
   "cell_type": "code",
   "execution_count": 9,
   "metadata": {},
   "outputs": [],
   "source": [
    "stemmer = SnowballStemmer('russian')"
   ]
  },
  {
   "cell_type": "code",
   "execution_count": 5,
   "metadata": {},
   "outputs": [],
   "source": [
    "with open(f'data/russian.txt', 'r') as file:\n",
    "    stopwords = file.readlines()\n",
    "    stopwords = [ word.replace('\\n', '') for word in stopwords ]"
   ]
  },
  {
   "cell_type": "code",
   "execution_count": 6,
   "metadata": {},
   "outputs": [],
   "source": [
    "def preproc(text):\n",
    "    text = text.lower()\n",
    "    # whitespace\n",
    "    text = text.strip()\n",
    "    text = re.sub(r'\\s+', ' ', text)\n",
    "    text = text.split(' ')\n",
    "    # remove stopwords\n",
    "    text = [ word for word in text if word not in stopwords ]\n",
    "    # stemmer\n",
    "    text = [ stemmer.stem(word) for word in text ]\n",
    "    return (' ').join(text)"
   ]
  },
  {
   "cell_type": "code",
   "execution_count": 45,
   "metadata": {},
   "outputs": [],
   "source": [
    "CLF_PATH_1 = 'clf_1.pkl'\n",
    "CLF_PATH_2 = 'clf_2.pkl'\n",
    "TFIDF_PATH = 'tfidf.pkl'\n",
    "SUBMIT_PATH = 'submit.csv'\n",
    "\n",
    "def train(train_path):\n",
    "    # set seed     \n",
    "    my_seed = 12345\n",
    "    np.random.seed(my_seed)\n",
    "    random.seed(my_seed)\n",
    "    \n",
    "    # load data     \n",
    "    train_df = pd.read_csv(train_path)\n",
    "    df_0 = pd.read_csv('best_sample_0.csv', usecols=['text', 'label']).sample(1000, random_state=my_seed)\n",
    "    df_0.text = [ preproc(text) for text in df_0.text ]\n",
    "    train_df = pd.concat([df_0, train_df])\n",
    "    \n",
    "    # data transform     \n",
    "    tfidf = TfidfVectorizer(smooth_idf=True, ngram_range=(3,6), analyzer='char_wb')\n",
    "    x_train = tfidf.fit_transform(train_df.text)\n",
    "    y_train = train_df.label\n",
    "    \n",
    "    # model design \n",
    "    # clf 1\n",
    "    estimators = [\n",
    "        ('sgd', SGDClassifier(loss='modified_huber', alpha=1e-5, \n",
    "                              random_state=my_seed, average=False,\n",
    "                              class_weight={0: 0.25, 1: 0.4, 2: 0.38})),\n",
    "        ('bayes', MultinomialNB(alpha=0.05, class_prior=[0.27, 0.41, 0.38])),\n",
    "    ]\n",
    "    clf_1 = VotingClassifier(estimators=estimators, voting='soft', weights=[0.519, 0.428])\n",
    "    clf_1.fit(x_train, y_train)\n",
    "    \n",
    "    # clf 2\n",
    "    pred = clf_1.predict_proba(x_train)\n",
    "    clf_2 = LogisticRegression(multi_class='multinomial',\n",
    "                              class_weight={0: 0.23, 1: 0.52, 2: 0.37})\n",
    "    clf_2.fit(pred, y_train)\n",
    "\n",
    "    # save clf_1, clf_2, tfidf     \n",
    "    pickle.dump(clf_1, open(CLF_PATH_1, 'wb'))\n",
    "    pickle.dump(clf_2, open(CLF_PATH_2, 'wb'))\n",
    "    pickle.dump(tfidf, open(TFIDF_PATH, 'wb'))\n",
    "\n",
    "def predict(test_path):\n",
    "    # loadings\n",
    "    test_df = pd.read_csv(test_path)\n",
    "    tfidf = pickle.load(open(TFIDF_PATH, 'rb'))\n",
    "    clf_1 = pickle.load(open(CLF_PATH_1, 'rb'))\n",
    "    clf_2 = pickle.load(open(CLF_PATH_2, 'rb'))\n",
    "    \n",
    "    # data transform     \n",
    "    x_test = tfidf.transform(test_df.text)\n",
    "    \n",
    "    # make predictions\n",
    "    temp_pred = clf_1.predict_proba(x_test)\n",
    "    y_pred = clf_2.predict(temp_pred)\n",
    "    \n",
    "    # submit predictions\n",
    "    test_df['label'] = y_pred\n",
    "    test_df.to_csv(SUBMIT_PATH)"
   ]
  },
  {
   "cell_type": "code",
   "execution_count": 46,
   "metadata": {},
   "outputs": [],
   "source": [
    "train('data/my_train.csv')\n",
    "predict('data/my_test.csv')"
   ]
  },
  {
   "cell_type": "code",
   "execution_count": 47,
   "metadata": {},
   "outputs": [
    {
     "data": {
      "text/plain": [
       "0.898125"
      ]
     },
     "execution_count": 47,
     "metadata": {},
     "output_type": "execute_result"
    }
   ],
   "source": [
    "y_pred = pd.read_csv('submit.csv')['label'].values\n",
    "y_test =  pd.read_csv('my_test_copy.csv')['label'].values\n",
    "f1_score(y_test, y_pred, average='micro')"
   ]
  },
  {
   "cell_type": "code",
   "execution_count": 48,
   "metadata": {},
   "outputs": [
    {
     "name": "stdout",
     "output_type": "stream",
     "text": [
      "              precision    recall  f1-score   support\n",
      "\n",
      "           0       0.68      0.80      0.74      1292\n",
      "           1       0.98      0.99      0.99      3562\n",
      "           2       0.91      0.83      0.87      3146\n",
      "\n",
      "    accuracy                           0.90      8000\n",
      "   macro avg       0.86      0.88      0.86      8000\n",
      "weighted avg       0.90      0.90      0.90      8000\n",
      "\n"
     ]
    }
   ],
   "source": [
    "print(classification_report(y_pred, y_test))"
   ]
  },
  {
   "cell_type": "code",
   "execution_count": null,
   "metadata": {},
   "outputs": [],
   "source": []
  }
 ],
 "metadata": {
  "kernelspec": {
   "display_name": "Python 3",
   "language": "python",
   "name": "python3"
  },
  "language_info": {
   "codemirror_mode": {
    "name": "ipython",
    "version": 3
   },
   "file_extension": ".py",
   "mimetype": "text/x-python",
   "name": "python",
   "nbconvert_exporter": "python",
   "pygments_lexer": "ipython3",
   "version": "3.8.5"
  }
 },
 "nbformat": 4,
 "nbformat_minor": 4
}
