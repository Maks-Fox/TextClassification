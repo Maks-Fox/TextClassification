{
 "cells": [
  {
   "cell_type": "code",
   "execution_count": 1,
   "metadata": {},
   "outputs": [],
   "source": [
    "import pandas as pd\n",
    "from sklearn.feature_extraction.text import TfidfVectorizer\n",
    "from sklearn.linear_model import SGDClassifier\n",
    "from sklearn.model_selection import train_test_split\n",
    "from sklearn.metrics import f1_score\n",
    "import numpy as np\n",
    "import random"
   ]
  },
  {
   "cell_type": "markdown",
   "metadata": {},
   "source": [
    "## Отложим тест"
   ]
  },
  {
   "cell_type": "code",
   "execution_count": 2,
   "metadata": {},
   "outputs": [
    {
     "data": {
      "text/html": [
       "<div>\n",
       "<style scoped>\n",
       "    .dataframe tbody tr th:only-of-type {\n",
       "        vertical-align: middle;\n",
       "    }\n",
       "\n",
       "    .dataframe tbody tr th {\n",
       "        vertical-align: top;\n",
       "    }\n",
       "\n",
       "    .dataframe thead th {\n",
       "        text-align: right;\n",
       "    }\n",
       "</style>\n",
       "<table border=\"1\" class=\"dataframe\">\n",
       "  <thead>\n",
       "    <tr style=\"text-align: right;\">\n",
       "      <th></th>\n",
       "      <th>id</th>\n",
       "      <th>text</th>\n",
       "      <th>label</th>\n",
       "    </tr>\n",
       "  </thead>\n",
       "  <tbody>\n",
       "    <tr>\n",
       "      <th>0</th>\n",
       "      <td>71977</td>\n",
       "      <td>а, ну надо перед циклом i = 0 написать</td>\n",
       "      <td>0</td>\n",
       "    </tr>\n",
       "    <tr>\n",
       "      <th>1</th>\n",
       "      <td>61004</td>\n",
       "      <td>Прикол в принципиальном отличии алгоритма\\nНап...</td>\n",
       "      <td>2</td>\n",
       "    </tr>\n",
       "    <tr>\n",
       "      <th>2</th>\n",
       "      <td>27119</td>\n",
       "      <td>Кстати, я так понял тема-то устройства интерес...</td>\n",
       "      <td>2</td>\n",
       "    </tr>\n",
       "    <tr>\n",
       "      <th>3</th>\n",
       "      <td>96329</td>\n",
       "      <td>ДЕВЧЕНКИ ВРЕМЯ НЕ ТЕРЯЙТЕ  ном.НАБИРАЙТЕ: (063...</td>\n",
       "      <td>1</td>\n",
       "    </tr>\n",
       "    <tr>\n",
       "      <th>4</th>\n",
       "      <td>4707</td>\n",
       "      <td>п29 хочу *. Отношения! Ответ на ммс с Дев. 068...</td>\n",
       "      <td>1</td>\n",
       "    </tr>\n",
       "  </tbody>\n",
       "</table>\n",
       "</div>"
      ],
      "text/plain": [
       "      id                                               text  label\n",
       "0  71977             а, ну надо перед циклом i = 0 написать      0\n",
       "1  61004  Прикол в принципиальном отличии алгоритма\\nНап...      2\n",
       "2  27119  Кстати, я так понял тема-то устройства интерес...      2\n",
       "3  96329  ДЕВЧЕНКИ ВРЕМЯ НЕ ТЕРЯЙТЕ  ном.НАБИРАЙТЕ: (063...      1\n",
       "4   4707  п29 хочу *. Отношения! Ответ на ммс с Дев. 068...      1"
      ]
     },
     "execution_count": 2,
     "metadata": {},
     "output_type": "execute_result"
    }
   ],
   "source": [
    "df = pd.read_csv('train.csv')\n",
    "df.head()"
   ]
  },
  {
   "cell_type": "code",
   "execution_count": 3,
   "metadata": {},
   "outputs": [
    {
     "name": "stdout",
     "output_type": "stream",
     "text": [
      "(72000, 3) (8000, 3)\n"
     ]
    }
   ],
   "source": [
    "train_df, test_df = train_test_split(df, test_size=0.1, random_state=123456)\n",
    "print(train_df.shape, test_df.shape)"
   ]
  },
  {
   "cell_type": "code",
   "execution_count": 4,
   "metadata": {},
   "outputs": [],
   "source": [
    "train_df.to_csv('my_train.csv', index=False)\n",
    "test_df.to_csv('my_test.csv', index=False)"
   ]
  },
  {
   "cell_type": "markdown",
   "metadata": {},
   "source": [
    "# Эксперименты с моделями "
   ]
  },
  {
   "cell_type": "markdown",
   "metadata": {},
   "source": [
    "## Обучим модель для классификации"
   ]
  },
  {
   "cell_type": "code",
   "execution_count": 5,
   "metadata": {},
   "outputs": [
    {
     "data": {
      "text/html": [
       "<div>\n",
       "<style scoped>\n",
       "    .dataframe tbody tr th:only-of-type {\n",
       "        vertical-align: middle;\n",
       "    }\n",
       "\n",
       "    .dataframe tbody tr th {\n",
       "        vertical-align: top;\n",
       "    }\n",
       "\n",
       "    .dataframe thead th {\n",
       "        text-align: right;\n",
       "    }\n",
       "</style>\n",
       "<table border=\"1\" class=\"dataframe\">\n",
       "  <thead>\n",
       "    <tr style=\"text-align: right;\">\n",
       "      <th></th>\n",
       "      <th>id</th>\n",
       "      <th>text</th>\n",
       "      <th>label</th>\n",
       "    </tr>\n",
       "  </thead>\n",
       "  <tbody>\n",
       "    <tr>\n",
       "      <th>0</th>\n",
       "      <td>11107</td>\n",
       "      <td>П.29л позн.с девушкой для общения с/о.Днепр.06...</td>\n",
       "      <td>1</td>\n",
       "    </tr>\n",
       "    <tr>\n",
       "      <th>1</th>\n",
       "      <td>110307</td>\n",
       "      <td>вывод - надо было не брать ноуты... был бы тож...</td>\n",
       "      <td>2</td>\n",
       "    </tr>\n",
       "    <tr>\n",
       "      <th>2</th>\n",
       "      <td>101112</td>\n",
       "      <td>может версия зип-архива более новая конечно</td>\n",
       "      <td>0</td>\n",
       "    </tr>\n",
       "    <tr>\n",
       "      <th>3</th>\n",
       "      <td>88170</td>\n",
       "      <td>но в целом - да, для разных языков надо разные...</td>\n",
       "      <td>0</td>\n",
       "    </tr>\n",
       "    <tr>\n",
       "      <th>4</th>\n",
       "      <td>78794</td>\n",
       "      <td>.МУЖ.би.СИМПТ.ДЛЯ.Д/Ж.К..ИГ.МАССАЖ.0984990115.</td>\n",
       "      <td>1</td>\n",
       "    </tr>\n",
       "  </tbody>\n",
       "</table>\n",
       "</div>"
      ],
      "text/plain": [
       "       id                                               text  label\n",
       "0   11107  П.29л позн.с девушкой для общения с/о.Днепр.06...      1\n",
       "1  110307  вывод - надо было не брать ноуты... был бы тож...      2\n",
       "2  101112        может версия зип-архива более новая конечно      0\n",
       "3   88170  но в целом - да, для разных языков надо разные...      0\n",
       "4   78794     .МУЖ.би.СИМПТ.ДЛЯ.Д/Ж.К..ИГ.МАССАЖ.0984990115.      1"
      ]
     },
     "execution_count": 5,
     "metadata": {},
     "output_type": "execute_result"
    }
   ],
   "source": [
    "train_df = pd.read_csv('my_train.csv')\n",
    "test_df = pd.read_csv('my_test.csv')\n",
    "train_df.head()"
   ]
  },
  {
   "cell_type": "code",
   "execution_count": 6,
   "metadata": {},
   "outputs": [],
   "source": [
    "# фиксируем все рандом сиды, чтобы получать такой же результат при запуске train, predict\n",
    "my_seed = 12345\n",
    "np.random.seed(my_seed)\n",
    "random.seed(my_seed)"
   ]
  },
  {
   "cell_type": "code",
   "execution_count": 8,
   "metadata": {},
   "outputs": [
    {
     "name": "stdout",
     "output_type": "stream",
     "text": [
      "(72000, 94464) (8000, 94464)\n"
     ]
    }
   ],
   "source": [
    "tfidf = TfidfVectorizer()\n",
    "X_train = tfidf.fit_transform(train_df['text'])\n",
    "X_test = tfidf.transform(test_df['text'])\n",
    "print(X_train.shape, X_test.shape)\n",
    "\n",
    "y_train, y_test = train_df['label'].values, test_df['label'].values"
   ]
  },
  {
   "cell_type": "code",
   "execution_count": 9,
   "metadata": {},
   "outputs": [],
   "source": [
    "clf = SGDClassifier()\n",
    "clf.fit(X_train, y_train)\n",
    "y_train_pred = clf.predict(X_train)\n",
    "y_test_pred = clf.predict(X_test)"
   ]
  },
  {
   "cell_type": "code",
   "execution_count": 10,
   "metadata": {},
   "outputs": [
    {
     "data": {
      "text/plain": [
       "(0.8576944444444444, 0.8435)"
      ]
     },
     "execution_count": 10,
     "metadata": {},
     "output_type": "execute_result"
    }
   ],
   "source": [
    "f_train = f1_score(y_train, y_train_pred, average='micro')\n",
    "f_test = f1_score(y_test, y_test_pred, average='micro')\n",
    "f_train, f_test"
   ]
  },
  {
   "cell_type": "code",
   "execution_count": null,
   "metadata": {},
   "outputs": [],
   "source": []
  },
  {
   "cell_type": "markdown",
   "metadata": {},
   "source": [
    "# Код для сдачи"
   ]
  },
  {
   "cell_type": "code",
   "execution_count": 11,
   "metadata": {},
   "outputs": [],
   "source": [
    "import pandas as pd\n",
    "from sklearn.feature_extraction.text import TfidfVectorizer\n",
    "from sklearn.linear_model import SGDClassifier\n",
    "import pickle\n",
    "\n",
    "CLF_PATH = 'clf.pkl'\n",
    "TFIDF_PATH = 'tfidf.pkl'\n",
    "SUBMIT_PATH = 'submit.csv'\n",
    "\n",
    "def train(train_path):\n",
    "    my_seed = 12345\n",
    "    np.random.seed(my_seed)\n",
    "    random.seed(my_seed)\n",
    "\n",
    "    df = pd.read_csv(train_path)\n",
    "    tfidf = TfidfVectorizer()\n",
    "    X = tfidf.fit_transform(df['text'])\n",
    "    y = df['label'].values\n",
    "    clf = SGDClassifier()\n",
    "    clf.fit(X, y)\n",
    "    pickle.dump(clf, open(CLF_PATH, 'wb'))\n",
    "    pickle.dump(tfidf, open(TFIDF_PATH, 'wb'))\n",
    "\n",
    "def predict(test_path):\n",
    "    df = pd.read_csv(test_path)\n",
    "    tfidf = pickle.load(open(TFIDF_PATH, 'rb'))\n",
    "    clf = pickle.load(open(CLF_PATH, 'rb'))\n",
    "    X = tfidf.transform(df['text'])\n",
    "    y = clf.predict(X)\n",
    "    df['label'] = y\n",
    "    df.to_csv(SUBMIT_PATH)"
   ]
  },
  {
   "cell_type": "markdown",
   "metadata": {},
   "source": [
    "# Так можно проверить, что с кодом для сдачи все хорошо"
   ]
  },
  {
   "cell_type": "code",
   "execution_count": 13,
   "metadata": {},
   "outputs": [
    {
     "data": {
      "text/plain": [
       "0.8435"
      ]
     },
     "execution_count": 13,
     "metadata": {},
     "output_type": "execute_result"
    }
   ],
   "source": [
    "train('my_train.csv')\n",
    "predict('my_test.csv')\n",
    "y_pred = pd.read_csv('submit.csv')['label'].values\n",
    "y_test =  pd.read_csv('my_test.csv')['label'].values\n",
    "f1_score(y_test, y_pred, average='micro')"
   ]
  },
  {
   "cell_type": "code",
   "execution_count": null,
   "metadata": {},
   "outputs": [],
   "source": []
  },
  {
   "cell_type": "code",
   "execution_count": null,
   "metadata": {},
   "outputs": [],
   "source": []
  }
 ],
 "metadata": {
  "kernelspec": {
   "display_name": "Python 3",
   "language": "python",
   "name": "python3"
  },
  "language_info": {
   "codemirror_mode": {
    "name": "ipython",
    "version": 3
   },
   "file_extension": ".py",
   "mimetype": "text/x-python",
   "name": "python",
   "nbconvert_exporter": "python",
   "pygments_lexer": "ipython3",
   "version": "3.8.5"
  }
 },
 "nbformat": 4,
 "nbformat_minor": 4
}
